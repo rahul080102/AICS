{
  "nbformat": 4,
  "nbformat_minor": 0,
  "metadata": {
    "colab": {
      "provenance": [],
      "authorship_tag": "ABX9TyPzhSxf566QggbN9FrNiZJA",
      "include_colab_link": true
    },
    "kernelspec": {
      "name": "python3",
      "display_name": "Python 3"
    },
    "language_info": {
      "name": "python"
    }
  },
  "cells": [
    {
      "cell_type": "markdown",
      "metadata": {
        "id": "view-in-github",
        "colab_type": "text"
      },
      "source": [
        "<a href=\"https://colab.research.google.com/github/rahul080102/AICS/blob/main/AICS%20lab1.ipynb\" target=\"_parent\"><img src=\"https://colab.research.google.com/assets/colab-badge.svg\" alt=\"Open In Colab\"/></a>"
      ]
    },
    {
      "cell_type": "code",
      "source": [
        "myList=[1,2,3, 'Aics lab', 'Cyber Security']\n",
        "myList.append(4)\n",
        "myList.append(5)\n",
        "myList.append(6)\n",
        "print(myList)"
      ],
      "metadata": {
        "colab": {
          "base_uri": "https://localhost:8080/"
        },
        "id": "RAev2aUEcwIE",
        "outputId": "31de63ff-5baa-4b71-c9d1-2ed8f7aefb1c"
      },
      "execution_count": 3,
      "outputs": [
        {
          "output_type": "stream",
          "name": "stdout",
          "text": [
            "[1, 2, 3, 'Aics lab', 'Cyber Security', 4, 5, 6]\n"
          ]
        }
      ]
    },
    {
      "cell_type": "code",
      "source": [
        "myList.reverse()\n",
        "print(myList)"
      ],
      "metadata": {
        "colab": {
          "base_uri": "https://localhost:8080/"
        },
        "id": "vnqXAONTdvSG",
        "outputId": "5e907e8e-be62-49e1-b477-680d11c62367"
      },
      "execution_count": 4,
      "outputs": [
        {
          "output_type": "stream",
          "name": "stdout",
          "text": [
            "[6, 5, 4, 'Cyber Security', 'Aics lab', 3, 2, 1]\n"
          ]
        }
      ]
    },
    {
      "cell_type": "code",
      "source": [
        "print(len(myList))"
      ],
      "metadata": {
        "colab": {
          "base_uri": "https://localhost:8080/"
        },
        "id": "0TkdB5pyd6uO",
        "outputId": "a75aacbc-ac63-4d85-a69f-d8adaac922dc"
      },
      "execution_count": 5,
      "outputs": [
        {
          "output_type": "stream",
          "name": "stdout",
          "text": [
            "8\n"
          ]
        }
      ]
    },
    {
      "cell_type": "code",
      "source": [
        "myList.pop(1)\n",
        "print(myList)\n"
      ],
      "metadata": {
        "colab": {
          "base_uri": "https://localhost:8080/"
        },
        "id": "kjkSgSjLeA65",
        "outputId": "caf5494e-53b4-45a5-c6bb-35ab5c8772aa"
      },
      "execution_count": 6,
      "outputs": [
        {
          "output_type": "stream",
          "name": "stdout",
          "text": [
            "[6, 4, 'Cyber Security', 'Aics lab', 3, 2, 1]\n"
          ]
        }
      ]
    },
    {
      "cell_type": "code",
      "source": [
        "myList.insert(1, 'RCOEM')\n",
        "print(myList)"
      ],
      "metadata": {
        "colab": {
          "base_uri": "https://localhost:8080/"
        },
        "id": "QpXqjZpregSh",
        "outputId": "d99799a3-fde7-4473-8312-471fce01eaa7"
      },
      "execution_count": 8,
      "outputs": [
        {
          "output_type": "stream",
          "name": "stdout",
          "text": [
            "[6, 'RCOEM', 4, 'Cyber Security', 'Aics lab', 3, 2, 1]\n"
          ]
        }
      ]
    },
    {
      "cell_type": "code",
      "source": [
        "myDict1={1:'RCOEM', 2:'aics lab', 3:'cyber security'}\n",
        "print(len(myDict1))"
      ],
      "metadata": {
        "colab": {
          "base_uri": "https://localhost:8080/"
        },
        "id": "Etp29DVWepZd",
        "outputId": "47b17f1b-52de-4d14-f79e-1497321a9c53"
      },
      "execution_count": 11,
      "outputs": [
        {
          "output_type": "stream",
          "name": "stdout",
          "text": [
            "3\n"
          ]
        }
      ]
    },
    {
      "cell_type": "code",
      "source": [
        "myDict2 = {1:'AI', 2:'and', 3:'CS'}\n",
        "myDict1.update(myDict2)\n",
        "print(myDict1)"
      ],
      "metadata": {
        "colab": {
          "base_uri": "https://localhost:8080/"
        },
        "id": "5y8GVrqQfrbN",
        "outputId": "62b86b82-0ab1-4c78-d7da-5113fb9fe151"
      },
      "execution_count": 12,
      "outputs": [
        {
          "output_type": "stream",
          "name": "stdout",
          "text": [
            "{1: 'AI', 2: 'and', 3: 'CS'}\n"
          ]
        }
      ]
    },
    {
      "cell_type": "code",
      "source": [
        "myDict1.pop(2)\n",
        "print(myDict1)"
      ],
      "metadata": {
        "colab": {
          "base_uri": "https://localhost:8080/"
        },
        "id": "NFs6iXwRhXva",
        "outputId": "9a4b41e2-032f-4ea3-b76b-c4724fcec863"
      },
      "execution_count": 15,
      "outputs": [
        {
          "output_type": "stream",
          "name": "stdout",
          "text": [
            "{1: 'AI', 3: 'CS'}\n"
          ]
        }
      ]
    },
    {
      "cell_type": "code",
      "source": [
        "myDict1[4]='Lab'\n",
        "print(myDict1)"
      ],
      "metadata": {
        "colab": {
          "base_uri": "https://localhost:8080/"
        },
        "id": "IEX_BZdihpca",
        "outputId": "369a9f8f-208b-4502-f88a-92e3549be0dc"
      },
      "execution_count": 16,
      "outputs": [
        {
          "output_type": "stream",
          "name": "stdout",
          "text": [
            "{1: 'AI', 3: 'CS', 4: 'Lab'}\n"
          ]
        }
      ]
    },
    {
      "cell_type": "code",
      "source": [],
      "metadata": {
        "id": "0nr1UDrHirBS"
      },
      "execution_count": null,
      "outputs": []
    }
  ]
}