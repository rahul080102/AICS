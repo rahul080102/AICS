{
  "nbformat": 4,
  "nbformat_minor": 0,
  "metadata": {
    "colab": {
      "provenance": [],
      "authorship_tag": "ABX9TyNSfrNx2HSmcVm7po+g+9lt",
      "include_colab_link": true
    },
    "kernelspec": {
      "name": "python3",
      "display_name": "Python 3"
    },
    "language_info": {
      "name": "python"
    }
  },
  "cells": [
    {
      "cell_type": "markdown",
      "metadata": {
        "id": "view-in-github",
        "colab_type": "text"
      },
      "source": [
        "<a href=\"https://colab.research.google.com/github/rahul080102/AICS/blob/main/AICS_lab%204.ipynb\" target=\"_parent\"><img src=\"https://colab.research.google.com/assets/colab-badge.svg\" alt=\"Open In Colab\"/></a>"
      ]
    },
    {
      "cell_type": "code",
      "execution_count": 1,
      "metadata": {
        "id": "8KydfnrskUEK",
        "colab": {
          "base_uri": "https://localhost:8080/",
          "height": 206
        },
        "outputId": "b1b6a094-aab6-4372-8b7d-bb1ee6559a75"
      },
      "outputs": [
        {
          "output_type": "execute_result",
          "data": {
            "text/plain": [
              "   Age  EstimatedSalary  Purchased\n",
              "0   19            19000          0\n",
              "1   35            20000          0\n",
              "2   26            43000          0\n",
              "3   27            57000          0\n",
              "4   19            76000          0"
            ],
            "text/html": [
              "\n",
              "  <div id=\"df-29100905-f720-4109-9aa6-ae9991358258\">\n",
              "    <div class=\"colab-df-container\">\n",
              "      <div>\n",
              "<style scoped>\n",
              "    .dataframe tbody tr th:only-of-type {\n",
              "        vertical-align: middle;\n",
              "    }\n",
              "\n",
              "    .dataframe tbody tr th {\n",
              "        vertical-align: top;\n",
              "    }\n",
              "\n",
              "    .dataframe thead th {\n",
              "        text-align: right;\n",
              "    }\n",
              "</style>\n",
              "<table border=\"1\" class=\"dataframe\">\n",
              "  <thead>\n",
              "    <tr style=\"text-align: right;\">\n",
              "      <th></th>\n",
              "      <th>Age</th>\n",
              "      <th>EstimatedSalary</th>\n",
              "      <th>Purchased</th>\n",
              "    </tr>\n",
              "  </thead>\n",
              "  <tbody>\n",
              "    <tr>\n",
              "      <th>0</th>\n",
              "      <td>19</td>\n",
              "      <td>19000</td>\n",
              "      <td>0</td>\n",
              "    </tr>\n",
              "    <tr>\n",
              "      <th>1</th>\n",
              "      <td>35</td>\n",
              "      <td>20000</td>\n",
              "      <td>0</td>\n",
              "    </tr>\n",
              "    <tr>\n",
              "      <th>2</th>\n",
              "      <td>26</td>\n",
              "      <td>43000</td>\n",
              "      <td>0</td>\n",
              "    </tr>\n",
              "    <tr>\n",
              "      <th>3</th>\n",
              "      <td>27</td>\n",
              "      <td>57000</td>\n",
              "      <td>0</td>\n",
              "    </tr>\n",
              "    <tr>\n",
              "      <th>4</th>\n",
              "      <td>19</td>\n",
              "      <td>76000</td>\n",
              "      <td>0</td>\n",
              "    </tr>\n",
              "  </tbody>\n",
              "</table>\n",
              "</div>\n",
              "      <button class=\"colab-df-convert\" onclick=\"convertToInteractive('df-29100905-f720-4109-9aa6-ae9991358258')\"\n",
              "              title=\"Convert this dataframe to an interactive table.\"\n",
              "              style=\"display:none;\">\n",
              "        \n",
              "  <svg xmlns=\"http://www.w3.org/2000/svg\" height=\"24px\"viewBox=\"0 0 24 24\"\n",
              "       width=\"24px\">\n",
              "    <path d=\"M0 0h24v24H0V0z\" fill=\"none\"/>\n",
              "    <path d=\"M18.56 5.44l.94 2.06.94-2.06 2.06-.94-2.06-.94-.94-2.06-.94 2.06-2.06.94zm-11 1L8.5 8.5l.94-2.06 2.06-.94-2.06-.94L8.5 2.5l-.94 2.06-2.06.94zm10 10l.94 2.06.94-2.06 2.06-.94-2.06-.94-.94-2.06-.94 2.06-2.06.94z\"/><path d=\"M17.41 7.96l-1.37-1.37c-.4-.4-.92-.59-1.43-.59-.52 0-1.04.2-1.43.59L10.3 9.45l-7.72 7.72c-.78.78-.78 2.05 0 2.83L4 21.41c.39.39.9.59 1.41.59.51 0 1.02-.2 1.41-.59l7.78-7.78 2.81-2.81c.8-.78.8-2.07 0-2.86zM5.41 20L4 18.59l7.72-7.72 1.47 1.35L5.41 20z\"/>\n",
              "  </svg>\n",
              "      </button>\n",
              "      \n",
              "  <style>\n",
              "    .colab-df-container {\n",
              "      display:flex;\n",
              "      flex-wrap:wrap;\n",
              "      gap: 12px;\n",
              "    }\n",
              "\n",
              "    .colab-df-convert {\n",
              "      background-color: #E8F0FE;\n",
              "      border: none;\n",
              "      border-radius: 50%;\n",
              "      cursor: pointer;\n",
              "      display: none;\n",
              "      fill: #1967D2;\n",
              "      height: 32px;\n",
              "      padding: 0 0 0 0;\n",
              "      width: 32px;\n",
              "    }\n",
              "\n",
              "    .colab-df-convert:hover {\n",
              "      background-color: #E2EBFA;\n",
              "      box-shadow: 0px 1px 2px rgba(60, 64, 67, 0.3), 0px 1px 3px 1px rgba(60, 64, 67, 0.15);\n",
              "      fill: #174EA6;\n",
              "    }\n",
              "\n",
              "    [theme=dark] .colab-df-convert {\n",
              "      background-color: #3B4455;\n",
              "      fill: #D2E3FC;\n",
              "    }\n",
              "\n",
              "    [theme=dark] .colab-df-convert:hover {\n",
              "      background-color: #434B5C;\n",
              "      box-shadow: 0px 1px 3px 1px rgba(0, 0, 0, 0.15);\n",
              "      filter: drop-shadow(0px 1px 2px rgba(0, 0, 0, 0.3));\n",
              "      fill: #FFFFFF;\n",
              "    }\n",
              "  </style>\n",
              "\n",
              "      <script>\n",
              "        const buttonEl =\n",
              "          document.querySelector('#df-29100905-f720-4109-9aa6-ae9991358258 button.colab-df-convert');\n",
              "        buttonEl.style.display =\n",
              "          google.colab.kernel.accessAllowed ? 'block' : 'none';\n",
              "\n",
              "        async function convertToInteractive(key) {\n",
              "          const element = document.querySelector('#df-29100905-f720-4109-9aa6-ae9991358258');\n",
              "          const dataTable =\n",
              "            await google.colab.kernel.invokeFunction('convertToInteractive',\n",
              "                                                     [key], {});\n",
              "          if (!dataTable) return;\n",
              "\n",
              "          const docLinkHtml = 'Like what you see? Visit the ' +\n",
              "            '<a target=\"_blank\" href=https://colab.research.google.com/notebooks/data_table.ipynb>data table notebook</a>'\n",
              "            + ' to learn more about interactive tables.';\n",
              "          element.innerHTML = '';\n",
              "          dataTable['output_type'] = 'display_data';\n",
              "          await google.colab.output.renderOutput(dataTable, element);\n",
              "          const docLink = document.createElement('div');\n",
              "          docLink.innerHTML = docLinkHtml;\n",
              "          element.appendChild(docLink);\n",
              "        }\n",
              "      </script>\n",
              "    </div>\n",
              "  </div>\n",
              "  "
            ]
          },
          "metadata": {},
          "execution_count": 1
        }
      ],
      "source": [
        "import numpy as np\n",
        "import matplotlib.pyplot as plt\n",
        "import pandas as pd\n",
        "df = pd.read_csv('Social_Network_Ads.csv')\n",
        "df.head()"
      ]
    },
    {
      "cell_type": "code",
      "source": [
        "df.iloc[:,2:4]"
      ],
      "metadata": {
        "colab": {
          "base_uri": "https://localhost:8080/",
          "height": 424
        },
        "id": "kuYJX6IegloG",
        "outputId": "00880707-4d5e-4b9d-fc03-f21c954c7903"
      },
      "execution_count": 3,
      "outputs": [
        {
          "output_type": "execute_result",
          "data": {
            "text/plain": [
              "     Purchased\n",
              "0            0\n",
              "1            0\n",
              "2            0\n",
              "3            0\n",
              "4            0\n",
              "..         ...\n",
              "395          1\n",
              "396          1\n",
              "397          1\n",
              "398          0\n",
              "399          1\n",
              "\n",
              "[400 rows x 1 columns]"
            ],
            "text/html": [
              "\n",
              "  <div id=\"df-eff3b7b8-2af6-4b4d-a0a6-c4e53124b53e\">\n",
              "    <div class=\"colab-df-container\">\n",
              "      <div>\n",
              "<style scoped>\n",
              "    .dataframe tbody tr th:only-of-type {\n",
              "        vertical-align: middle;\n",
              "    }\n",
              "\n",
              "    .dataframe tbody tr th {\n",
              "        vertical-align: top;\n",
              "    }\n",
              "\n",
              "    .dataframe thead th {\n",
              "        text-align: right;\n",
              "    }\n",
              "</style>\n",
              "<table border=\"1\" class=\"dataframe\">\n",
              "  <thead>\n",
              "    <tr style=\"text-align: right;\">\n",
              "      <th></th>\n",
              "      <th>Purchased</th>\n",
              "    </tr>\n",
              "  </thead>\n",
              "  <tbody>\n",
              "    <tr>\n",
              "      <th>0</th>\n",
              "      <td>0</td>\n",
              "    </tr>\n",
              "    <tr>\n",
              "      <th>1</th>\n",
              "      <td>0</td>\n",
              "    </tr>\n",
              "    <tr>\n",
              "      <th>2</th>\n",
              "      <td>0</td>\n",
              "    </tr>\n",
              "    <tr>\n",
              "      <th>3</th>\n",
              "      <td>0</td>\n",
              "    </tr>\n",
              "    <tr>\n",
              "      <th>4</th>\n",
              "      <td>0</td>\n",
              "    </tr>\n",
              "    <tr>\n",
              "      <th>...</th>\n",
              "      <td>...</td>\n",
              "    </tr>\n",
              "    <tr>\n",
              "      <th>395</th>\n",
              "      <td>1</td>\n",
              "    </tr>\n",
              "    <tr>\n",
              "      <th>396</th>\n",
              "      <td>1</td>\n",
              "    </tr>\n",
              "    <tr>\n",
              "      <th>397</th>\n",
              "      <td>1</td>\n",
              "    </tr>\n",
              "    <tr>\n",
              "      <th>398</th>\n",
              "      <td>0</td>\n",
              "    </tr>\n",
              "    <tr>\n",
              "      <th>399</th>\n",
              "      <td>1</td>\n",
              "    </tr>\n",
              "  </tbody>\n",
              "</table>\n",
              "<p>400 rows × 1 columns</p>\n",
              "</div>\n",
              "      <button class=\"colab-df-convert\" onclick=\"convertToInteractive('df-eff3b7b8-2af6-4b4d-a0a6-c4e53124b53e')\"\n",
              "              title=\"Convert this dataframe to an interactive table.\"\n",
              "              style=\"display:none;\">\n",
              "        \n",
              "  <svg xmlns=\"http://www.w3.org/2000/svg\" height=\"24px\"viewBox=\"0 0 24 24\"\n",
              "       width=\"24px\">\n",
              "    <path d=\"M0 0h24v24H0V0z\" fill=\"none\"/>\n",
              "    <path d=\"M18.56 5.44l.94 2.06.94-2.06 2.06-.94-2.06-.94-.94-2.06-.94 2.06-2.06.94zm-11 1L8.5 8.5l.94-2.06 2.06-.94-2.06-.94L8.5 2.5l-.94 2.06-2.06.94zm10 10l.94 2.06.94-2.06 2.06-.94-2.06-.94-.94-2.06-.94 2.06-2.06.94z\"/><path d=\"M17.41 7.96l-1.37-1.37c-.4-.4-.92-.59-1.43-.59-.52 0-1.04.2-1.43.59L10.3 9.45l-7.72 7.72c-.78.78-.78 2.05 0 2.83L4 21.41c.39.39.9.59 1.41.59.51 0 1.02-.2 1.41-.59l7.78-7.78 2.81-2.81c.8-.78.8-2.07 0-2.86zM5.41 20L4 18.59l7.72-7.72 1.47 1.35L5.41 20z\"/>\n",
              "  </svg>\n",
              "      </button>\n",
              "      \n",
              "  <style>\n",
              "    .colab-df-container {\n",
              "      display:flex;\n",
              "      flex-wrap:wrap;\n",
              "      gap: 12px;\n",
              "    }\n",
              "\n",
              "    .colab-df-convert {\n",
              "      background-color: #E8F0FE;\n",
              "      border: none;\n",
              "      border-radius: 50%;\n",
              "      cursor: pointer;\n",
              "      display: none;\n",
              "      fill: #1967D2;\n",
              "      height: 32px;\n",
              "      padding: 0 0 0 0;\n",
              "      width: 32px;\n",
              "    }\n",
              "\n",
              "    .colab-df-convert:hover {\n",
              "      background-color: #E2EBFA;\n",
              "      box-shadow: 0px 1px 2px rgba(60, 64, 67, 0.3), 0px 1px 3px 1px rgba(60, 64, 67, 0.15);\n",
              "      fill: #174EA6;\n",
              "    }\n",
              "\n",
              "    [theme=dark] .colab-df-convert {\n",
              "      background-color: #3B4455;\n",
              "      fill: #D2E3FC;\n",
              "    }\n",
              "\n",
              "    [theme=dark] .colab-df-convert:hover {\n",
              "      background-color: #434B5C;\n",
              "      box-shadow: 0px 1px 3px 1px rgba(0, 0, 0, 0.15);\n",
              "      filter: drop-shadow(0px 1px 2px rgba(0, 0, 0, 0.3));\n",
              "      fill: #FFFFFF;\n",
              "    }\n",
              "  </style>\n",
              "\n",
              "      <script>\n",
              "        const buttonEl =\n",
              "          document.querySelector('#df-eff3b7b8-2af6-4b4d-a0a6-c4e53124b53e button.colab-df-convert');\n",
              "        buttonEl.style.display =\n",
              "          google.colab.kernel.accessAllowed ? 'block' : 'none';\n",
              "\n",
              "        async function convertToInteractive(key) {\n",
              "          const element = document.querySelector('#df-eff3b7b8-2af6-4b4d-a0a6-c4e53124b53e');\n",
              "          const dataTable =\n",
              "            await google.colab.kernel.invokeFunction('convertToInteractive',\n",
              "                                                     [key], {});\n",
              "          if (!dataTable) return;\n",
              "\n",
              "          const docLinkHtml = 'Like what you see? Visit the ' +\n",
              "            '<a target=\"_blank\" href=https://colab.research.google.com/notebooks/data_table.ipynb>data table notebook</a>'\n",
              "            + ' to learn more about interactive tables.';\n",
              "          element.innerHTML = '';\n",
              "          dataTable['output_type'] = 'display_data';\n",
              "          await google.colab.output.renderOutput(dataTable, element);\n",
              "          const docLink = document.createElement('div');\n",
              "          docLink.innerHTML = docLinkHtml;\n",
              "          element.appendChild(docLink);\n",
              "        }\n",
              "      </script>\n",
              "    </div>\n",
              "  </div>\n",
              "  "
            ]
          },
          "metadata": {},
          "execution_count": 3
        }
      ]
    },
    {
      "cell_type": "code",
      "source": [
        "x=df.iloc[:,2:4].values\n",
        "x.shape"
      ],
      "metadata": {
        "colab": {
          "base_uri": "https://localhost:8080/"
        },
        "id": "04QIyLshgpmb",
        "outputId": "fe90ab35-5420-4baa-cf71-89c7e447e1c4"
      },
      "execution_count": 6,
      "outputs": [
        {
          "output_type": "execute_result",
          "data": {
            "text/plain": [
              "(400, 1)"
            ]
          },
          "metadata": {},
          "execution_count": 6
        }
      ]
    },
    {
      "cell_type": "code",
      "source": [
        "y=df.iloc[:,-1].values\n",
        "y.shape"
      ],
      "metadata": {
        "colab": {
          "base_uri": "https://localhost:8080/"
        },
        "id": "YXzk5xaSg4iA",
        "outputId": "d698b2fe-1ef7-4bed-9ccd-12423eca9ea1"
      },
      "execution_count": 7,
      "outputs": [
        {
          "output_type": "execute_result",
          "data": {
            "text/plain": [
              "(400,)"
            ]
          },
          "metadata": {},
          "execution_count": 7
        }
      ]
    },
    {
      "cell_type": "code",
      "source": [
        "from sklearn.model_selection import train_test_split\n",
        "x_train, x_test, y_train, y_test = train_test_split(x,y,test_size=0.20)"
      ],
      "metadata": {
        "id": "mOYaHgFuhF_2"
      },
      "execution_count": 8,
      "outputs": []
    },
    {
      "cell_type": "code",
      "source": [
        "x_train.shape"
      ],
      "metadata": {
        "colab": {
          "base_uri": "https://localhost:8080/"
        },
        "id": "4HHDhNruhLD5",
        "outputId": "4ddcf445-79db-432e-9010-7ad131085622"
      },
      "execution_count": 9,
      "outputs": [
        {
          "output_type": "execute_result",
          "data": {
            "text/plain": [
              "(320, 1)"
            ]
          },
          "metadata": {},
          "execution_count": 9
        }
      ]
    },
    {
      "cell_type": "code",
      "source": [
        "x_test.shape"
      ],
      "metadata": {
        "colab": {
          "base_uri": "https://localhost:8080/"
        },
        "id": "IRZKd0GjhPRY",
        "outputId": "b91a299c-6066-42eb-91f2-32895276a9cf"
      },
      "execution_count": 10,
      "outputs": [
        {
          "output_type": "execute_result",
          "data": {
            "text/plain": [
              "(80, 1)"
            ]
          },
          "metadata": {},
          "execution_count": 10
        }
      ]
    },
    {
      "cell_type": "code",
      "source": [
        "from sklearn.preprocessing import StandardScaler\n",
        "scaler=StandardScaler()"
      ],
      "metadata": {
        "id": "BeiD1IIIhSSh"
      },
      "execution_count": 11,
      "outputs": []
    },
    {
      "cell_type": "code",
      "source": [
        "x_train = scaler.fit_transform(x_train)\n",
        "x_train"
      ],
      "metadata": {
        "colab": {
          "base_uri": "https://localhost:8080/"
        },
        "id": "RqRFrUEDhU7h",
        "outputId": "d05fd5f9-b3b1-4285-e723-cb078d47b80a"
      },
      "execution_count": 12,
      "outputs": [
        {
          "output_type": "execute_result",
          "data": {
            "text/plain": [
              "array([[-0.76944123],\n",
              "       [ 1.29964442],\n",
              "       [ 1.29964442],\n",
              "       [-0.76944123],\n",
              "       [-0.76944123],\n",
              "       [ 1.29964442],\n",
              "       [-0.76944123],\n",
              "       [ 1.29964442],\n",
              "       [-0.76944123],\n",
              "       [ 1.29964442],\n",
              "       [-0.76944123],\n",
              "       [-0.76944123],\n",
              "       [ 1.29964442],\n",
              "       [-0.76944123],\n",
              "       [-0.76944123],\n",
              "       [-0.76944123],\n",
              "       [ 1.29964442],\n",
              "       [-0.76944123],\n",
              "       [-0.76944123],\n",
              "       [-0.76944123],\n",
              "       [ 1.29964442],\n",
              "       [ 1.29964442],\n",
              "       [-0.76944123],\n",
              "       [-0.76944123],\n",
              "       [-0.76944123],\n",
              "       [ 1.29964442],\n",
              "       [-0.76944123],\n",
              "       [-0.76944123],\n",
              "       [-0.76944123],\n",
              "       [-0.76944123],\n",
              "       [ 1.29964442],\n",
              "       [ 1.29964442],\n",
              "       [-0.76944123],\n",
              "       [ 1.29964442],\n",
              "       [-0.76944123],\n",
              "       [-0.76944123],\n",
              "       [-0.76944123],\n",
              "       [-0.76944123],\n",
              "       [ 1.29964442],\n",
              "       [ 1.29964442],\n",
              "       [-0.76944123],\n",
              "       [-0.76944123],\n",
              "       [-0.76944123],\n",
              "       [-0.76944123],\n",
              "       [-0.76944123],\n",
              "       [-0.76944123],\n",
              "       [-0.76944123],\n",
              "       [-0.76944123],\n",
              "       [-0.76944123],\n",
              "       [ 1.29964442],\n",
              "       [-0.76944123],\n",
              "       [-0.76944123],\n",
              "       [-0.76944123],\n",
              "       [-0.76944123],\n",
              "       [-0.76944123],\n",
              "       [-0.76944123],\n",
              "       [-0.76944123],\n",
              "       [ 1.29964442],\n",
              "       [ 1.29964442],\n",
              "       [-0.76944123],\n",
              "       [-0.76944123],\n",
              "       [-0.76944123],\n",
              "       [-0.76944123],\n",
              "       [-0.76944123],\n",
              "       [-0.76944123],\n",
              "       [ 1.29964442],\n",
              "       [ 1.29964442],\n",
              "       [ 1.29964442],\n",
              "       [-0.76944123],\n",
              "       [-0.76944123],\n",
              "       [ 1.29964442],\n",
              "       [-0.76944123],\n",
              "       [-0.76944123],\n",
              "       [ 1.29964442],\n",
              "       [-0.76944123],\n",
              "       [-0.76944123],\n",
              "       [ 1.29964442],\n",
              "       [-0.76944123],\n",
              "       [-0.76944123],\n",
              "       [ 1.29964442],\n",
              "       [ 1.29964442],\n",
              "       [ 1.29964442],\n",
              "       [-0.76944123],\n",
              "       [ 1.29964442],\n",
              "       [-0.76944123],\n",
              "       [ 1.29964442],\n",
              "       [ 1.29964442],\n",
              "       [-0.76944123],\n",
              "       [-0.76944123],\n",
              "       [-0.76944123],\n",
              "       [ 1.29964442],\n",
              "       [ 1.29964442],\n",
              "       [ 1.29964442],\n",
              "       [-0.76944123],\n",
              "       [-0.76944123],\n",
              "       [ 1.29964442],\n",
              "       [ 1.29964442],\n",
              "       [ 1.29964442],\n",
              "       [-0.76944123],\n",
              "       [-0.76944123],\n",
              "       [ 1.29964442],\n",
              "       [ 1.29964442],\n",
              "       [-0.76944123],\n",
              "       [-0.76944123],\n",
              "       [ 1.29964442],\n",
              "       [-0.76944123],\n",
              "       [-0.76944123],\n",
              "       [ 1.29964442],\n",
              "       [-0.76944123],\n",
              "       [ 1.29964442],\n",
              "       [-0.76944123],\n",
              "       [-0.76944123],\n",
              "       [ 1.29964442],\n",
              "       [ 1.29964442],\n",
              "       [-0.76944123],\n",
              "       [ 1.29964442],\n",
              "       [-0.76944123],\n",
              "       [-0.76944123],\n",
              "       [ 1.29964442],\n",
              "       [-0.76944123],\n",
              "       [ 1.29964442],\n",
              "       [-0.76944123],\n",
              "       [ 1.29964442],\n",
              "       [-0.76944123],\n",
              "       [-0.76944123],\n",
              "       [ 1.29964442],\n",
              "       [ 1.29964442],\n",
              "       [-0.76944123],\n",
              "       [ 1.29964442],\n",
              "       [-0.76944123],\n",
              "       [-0.76944123],\n",
              "       [ 1.29964442],\n",
              "       [-0.76944123],\n",
              "       [-0.76944123],\n",
              "       [-0.76944123],\n",
              "       [ 1.29964442],\n",
              "       [-0.76944123],\n",
              "       [-0.76944123],\n",
              "       [-0.76944123],\n",
              "       [-0.76944123],\n",
              "       [-0.76944123],\n",
              "       [-0.76944123],\n",
              "       [-0.76944123],\n",
              "       [-0.76944123],\n",
              "       [ 1.29964442],\n",
              "       [-0.76944123],\n",
              "       [-0.76944123],\n",
              "       [ 1.29964442],\n",
              "       [-0.76944123],\n",
              "       [ 1.29964442],\n",
              "       [-0.76944123],\n",
              "       [-0.76944123],\n",
              "       [-0.76944123],\n",
              "       [-0.76944123],\n",
              "       [-0.76944123],\n",
              "       [-0.76944123],\n",
              "       [ 1.29964442],\n",
              "       [-0.76944123],\n",
              "       [-0.76944123],\n",
              "       [-0.76944123],\n",
              "       [ 1.29964442],\n",
              "       [-0.76944123],\n",
              "       [ 1.29964442],\n",
              "       [-0.76944123],\n",
              "       [ 1.29964442],\n",
              "       [-0.76944123],\n",
              "       [-0.76944123],\n",
              "       [-0.76944123],\n",
              "       [-0.76944123],\n",
              "       [-0.76944123],\n",
              "       [ 1.29964442],\n",
              "       [-0.76944123],\n",
              "       [ 1.29964442],\n",
              "       [-0.76944123],\n",
              "       [ 1.29964442],\n",
              "       [ 1.29964442],\n",
              "       [-0.76944123],\n",
              "       [ 1.29964442],\n",
              "       [-0.76944123],\n",
              "       [-0.76944123],\n",
              "       [-0.76944123],\n",
              "       [-0.76944123],\n",
              "       [ 1.29964442],\n",
              "       [-0.76944123],\n",
              "       [ 1.29964442],\n",
              "       [-0.76944123],\n",
              "       [ 1.29964442],\n",
              "       [ 1.29964442],\n",
              "       [ 1.29964442],\n",
              "       [ 1.29964442],\n",
              "       [ 1.29964442],\n",
              "       [-0.76944123],\n",
              "       [-0.76944123],\n",
              "       [ 1.29964442],\n",
              "       [-0.76944123],\n",
              "       [-0.76944123],\n",
              "       [-0.76944123],\n",
              "       [ 1.29964442],\n",
              "       [-0.76944123],\n",
              "       [ 1.29964442],\n",
              "       [-0.76944123],\n",
              "       [-0.76944123],\n",
              "       [ 1.29964442],\n",
              "       [-0.76944123],\n",
              "       [-0.76944123],\n",
              "       [-0.76944123],\n",
              "       [ 1.29964442],\n",
              "       [-0.76944123],\n",
              "       [ 1.29964442],\n",
              "       [-0.76944123],\n",
              "       [ 1.29964442],\n",
              "       [-0.76944123],\n",
              "       [-0.76944123],\n",
              "       [ 1.29964442],\n",
              "       [-0.76944123],\n",
              "       [ 1.29964442],\n",
              "       [-0.76944123],\n",
              "       [-0.76944123],\n",
              "       [ 1.29964442],\n",
              "       [-0.76944123],\n",
              "       [ 1.29964442],\n",
              "       [-0.76944123],\n",
              "       [-0.76944123],\n",
              "       [-0.76944123],\n",
              "       [-0.76944123],\n",
              "       [ 1.29964442],\n",
              "       [ 1.29964442],\n",
              "       [ 1.29964442],\n",
              "       [ 1.29964442],\n",
              "       [ 1.29964442],\n",
              "       [-0.76944123],\n",
              "       [-0.76944123],\n",
              "       [-0.76944123],\n",
              "       [-0.76944123],\n",
              "       [ 1.29964442],\n",
              "       [ 1.29964442],\n",
              "       [-0.76944123],\n",
              "       [ 1.29964442],\n",
              "       [-0.76944123],\n",
              "       [ 1.29964442],\n",
              "       [ 1.29964442],\n",
              "       [ 1.29964442],\n",
              "       [ 1.29964442],\n",
              "       [-0.76944123],\n",
              "       [-0.76944123],\n",
              "       [-0.76944123],\n",
              "       [-0.76944123],\n",
              "       [-0.76944123],\n",
              "       [-0.76944123],\n",
              "       [ 1.29964442],\n",
              "       [-0.76944123],\n",
              "       [ 1.29964442],\n",
              "       [ 1.29964442],\n",
              "       [ 1.29964442],\n",
              "       [-0.76944123],\n",
              "       [-0.76944123],\n",
              "       [-0.76944123],\n",
              "       [ 1.29964442],\n",
              "       [-0.76944123],\n",
              "       [ 1.29964442],\n",
              "       [ 1.29964442],\n",
              "       [-0.76944123],\n",
              "       [-0.76944123],\n",
              "       [-0.76944123],\n",
              "       [-0.76944123],\n",
              "       [-0.76944123],\n",
              "       [ 1.29964442],\n",
              "       [-0.76944123],\n",
              "       [ 1.29964442],\n",
              "       [-0.76944123],\n",
              "       [ 1.29964442],\n",
              "       [-0.76944123],\n",
              "       [ 1.29964442],\n",
              "       [-0.76944123],\n",
              "       [ 1.29964442],\n",
              "       [ 1.29964442],\n",
              "       [ 1.29964442],\n",
              "       [-0.76944123],\n",
              "       [ 1.29964442],\n",
              "       [-0.76944123],\n",
              "       [-0.76944123],\n",
              "       [-0.76944123],\n",
              "       [-0.76944123],\n",
              "       [-0.76944123],\n",
              "       [-0.76944123],\n",
              "       [-0.76944123],\n",
              "       [-0.76944123],\n",
              "       [-0.76944123],\n",
              "       [ 1.29964442],\n",
              "       [-0.76944123],\n",
              "       [ 1.29964442],\n",
              "       [ 1.29964442],\n",
              "       [-0.76944123],\n",
              "       [-0.76944123],\n",
              "       [-0.76944123],\n",
              "       [ 1.29964442],\n",
              "       [-0.76944123],\n",
              "       [-0.76944123],\n",
              "       [-0.76944123],\n",
              "       [-0.76944123],\n",
              "       [-0.76944123],\n",
              "       [ 1.29964442],\n",
              "       [-0.76944123],\n",
              "       [ 1.29964442],\n",
              "       [ 1.29964442],\n",
              "       [-0.76944123],\n",
              "       [-0.76944123],\n",
              "       [-0.76944123],\n",
              "       [-0.76944123],\n",
              "       [-0.76944123],\n",
              "       [ 1.29964442],\n",
              "       [-0.76944123],\n",
              "       [ 1.29964442],\n",
              "       [-0.76944123],\n",
              "       [-0.76944123],\n",
              "       [-0.76944123],\n",
              "       [-0.76944123],\n",
              "       [-0.76944123],\n",
              "       [-0.76944123],\n",
              "       [ 1.29964442]])"
            ]
          },
          "metadata": {},
          "execution_count": 12
        }
      ]
    },
    {
      "cell_type": "code",
      "source": [
        "x_test = scaler.fit_transform(x_test)\n",
        "x_test"
      ],
      "metadata": {
        "colab": {
          "base_uri": "https://localhost:8080/"
        },
        "id": "aLqyzrUAhd6f",
        "outputId": "9cca5f40-49e0-4551-8132-40a448aaf2c7"
      },
      "execution_count": 13,
      "outputs": [
        {
          "output_type": "execute_result",
          "data": {
            "text/plain": [
              "array([[-0.65465367],\n",
              "       [-0.65465367],\n",
              "       [-0.65465367],\n",
              "       [-0.65465367],\n",
              "       [-0.65465367],\n",
              "       [ 1.52752523],\n",
              "       [-0.65465367],\n",
              "       [ 1.52752523],\n",
              "       [-0.65465367],\n",
              "       [-0.65465367],\n",
              "       [-0.65465367],\n",
              "       [-0.65465367],\n",
              "       [-0.65465367],\n",
              "       [-0.65465367],\n",
              "       [-0.65465367],\n",
              "       [-0.65465367],\n",
              "       [-0.65465367],\n",
              "       [ 1.52752523],\n",
              "       [-0.65465367],\n",
              "       [ 1.52752523],\n",
              "       [ 1.52752523],\n",
              "       [-0.65465367],\n",
              "       [-0.65465367],\n",
              "       [-0.65465367],\n",
              "       [-0.65465367],\n",
              "       [-0.65465367],\n",
              "       [-0.65465367],\n",
              "       [-0.65465367],\n",
              "       [-0.65465367],\n",
              "       [ 1.52752523],\n",
              "       [-0.65465367],\n",
              "       [-0.65465367],\n",
              "       [ 1.52752523],\n",
              "       [ 1.52752523],\n",
              "       [-0.65465367],\n",
              "       [-0.65465367],\n",
              "       [-0.65465367],\n",
              "       [ 1.52752523],\n",
              "       [-0.65465367],\n",
              "       [-0.65465367],\n",
              "       [ 1.52752523],\n",
              "       [-0.65465367],\n",
              "       [-0.65465367],\n",
              "       [ 1.52752523],\n",
              "       [ 1.52752523],\n",
              "       [-0.65465367],\n",
              "       [-0.65465367],\n",
              "       [-0.65465367],\n",
              "       [ 1.52752523],\n",
              "       [-0.65465367],\n",
              "       [-0.65465367],\n",
              "       [-0.65465367],\n",
              "       [ 1.52752523],\n",
              "       [-0.65465367],\n",
              "       [-0.65465367],\n",
              "       [ 1.52752523],\n",
              "       [-0.65465367],\n",
              "       [-0.65465367],\n",
              "       [-0.65465367],\n",
              "       [-0.65465367],\n",
              "       [-0.65465367],\n",
              "       [-0.65465367],\n",
              "       [-0.65465367],\n",
              "       [ 1.52752523],\n",
              "       [-0.65465367],\n",
              "       [ 1.52752523],\n",
              "       [ 1.52752523],\n",
              "       [-0.65465367],\n",
              "       [ 1.52752523],\n",
              "       [ 1.52752523],\n",
              "       [ 1.52752523],\n",
              "       [-0.65465367],\n",
              "       [ 1.52752523],\n",
              "       [-0.65465367],\n",
              "       [-0.65465367],\n",
              "       [-0.65465367],\n",
              "       [-0.65465367],\n",
              "       [ 1.52752523],\n",
              "       [ 1.52752523],\n",
              "       [-0.65465367]])"
            ]
          },
          "metadata": {},
          "execution_count": 13
        }
      ]
    },
    {
      "cell_type": "code",
      "source": [
        "np.sqrt(x_train.shape[0])"
      ],
      "metadata": {
        "colab": {
          "base_uri": "https://localhost:8080/"
        },
        "id": "oIE5ghkLhiZ9",
        "outputId": "165faa95-ccde-4326-f6cd-c5141b8761ed"
      },
      "execution_count": 14,
      "outputs": [
        {
          "output_type": "execute_result",
          "data": {
            "text/plain": [
              "17.88854381999832"
            ]
          },
          "metadata": {},
          "execution_count": 14
        }
      ]
    },
    {
      "cell_type": "code",
      "source": [
        "k=17\n",
        "from sklearn.neighbors import KNeighborsClassifier\n",
        "knn = KNeighborsClassifier()\n",
        "knn.fit(x_train, y_train)"
      ],
      "metadata": {
        "colab": {
          "base_uri": "https://localhost:8080/"
        },
        "id": "HY0cDKRIhmjc",
        "outputId": "267f1b8b-9df8-45d6-d458-026f22f25dec"
      },
      "execution_count": 15,
      "outputs": [
        {
          "output_type": "execute_result",
          "data": {
            "text/plain": [
              "KNeighborsClassifier()"
            ]
          },
          "metadata": {},
          "execution_count": 15
        }
      ]
    },
    {
      "cell_type": "code",
      "source": [
        "y_predict1 = knn.predict(x_test)\n",
        "y_predict1.shape"
      ],
      "metadata": {
        "colab": {
          "base_uri": "https://localhost:8080/"
        },
        "id": "tiDt_7bBhs8Z",
        "outputId": "7b8e0bde-dbd6-49eb-f558-b21da94678b3"
      },
      "execution_count": 16,
      "outputs": [
        {
          "output_type": "execute_result",
          "data": {
            "text/plain": [
              "(80,)"
            ]
          },
          "metadata": {},
          "execution_count": 16
        }
      ]
    },
    {
      "cell_type": "code",
      "source": [
        "y_test.shape"
      ],
      "metadata": {
        "colab": {
          "base_uri": "https://localhost:8080/"
        },
        "id": "JStDi6W7hwXe",
        "outputId": "ff486488-5ae7-41c2-dc70-940e1d38bdc7"
      },
      "execution_count": 17,
      "outputs": [
        {
          "output_type": "execute_result",
          "data": {
            "text/plain": [
              "(80,)"
            ]
          },
          "metadata": {},
          "execution_count": 17
        }
      ]
    },
    {
      "cell_type": "code",
      "source": [
        "from sklearn.metrics import accuracy_score\n",
        "accuracy_score(y_test,y_predict1)"
      ],
      "metadata": {
        "colab": {
          "base_uri": "https://localhost:8080/"
        },
        "id": "RDJKbmcOhzeC",
        "outputId": "3b157f42-96b3-4874-d2a8-ef6a2ba5ab79"
      },
      "execution_count": 18,
      "outputs": [
        {
          "output_type": "execute_result",
          "data": {
            "text/plain": [
              "1.0"
            ]
          },
          "metadata": {},
          "execution_count": 18
        }
      ]
    },
    {
      "cell_type": "code",
      "source": [
        "from sklearn.metrics import confusion_matrix\n",
        "confusion_matrix(y_test, y_predict1)"
      ],
      "metadata": {
        "colab": {
          "base_uri": "https://localhost:8080/"
        },
        "id": "uR5dAFhMh15p",
        "outputId": "e16a09fb-c4c4-460a-8124-e3030fbd05aa"
      },
      "execution_count": 19,
      "outputs": [
        {
          "output_type": "execute_result",
          "data": {
            "text/plain": [
              "array([[56,  0],\n",
              "       [ 0, 24]])"
            ]
          },
          "metadata": {},
          "execution_count": 19
        }
      ]
    },
    {
      "cell_type": "code",
      "source": [
        "accuracy=[]\n",
        "for i in range (1,26):\n",
        "  knn = KNeighborsClassifier(n_neighbors = i)\n",
        "  knn.fit(x_train, y_train)\n",
        "  accuracy.append(accuracy_score(y_test, knn.predict(x_test)))"
      ],
      "metadata": {
        "id": "XLItUa1Ch5GB"
      },
      "execution_count": 20,
      "outputs": []
    },
    {
      "cell_type": "code",
      "source": [
        "plt.plot(range(1,26),accuracy)"
      ],
      "metadata": {
        "colab": {
          "base_uri": "https://localhost:8080/",
          "height": 282
        },
        "id": "i99yh54Wh8N3",
        "outputId": "109dbc66-ecf2-4d31-a9ac-5257b9b54250"
      },
      "execution_count": 21,
      "outputs": [
        {
          "output_type": "execute_result",
          "data": {
            "text/plain": [
              "[<matplotlib.lines.Line2D at 0x7fe3db765690>]"
            ]
          },
          "metadata": {},
          "execution_count": 21
        },
        {
          "output_type": "display_data",
          "data": {
            "text/plain": [
              "<Figure size 432x288 with 1 Axes>"
            ],
            "image/png": "[encoded data removed]"
          },
          "metadata": {
            "needs_background": "light"
          }
        }
      ]
    },
    {
      "cell_type": "code",
      "source": [
        "knn = KNeighborsClassifier(n_neighbors = 11)\n",
        "knn.fit(x_train, y_train)"
      ],
      "metadata": {
        "colab": {
          "base_uri": "https://localhost:8080/"
        },
        "id": "mHKYM7QPiAYP",
        "outputId": "1b0b31b6-5529-4c88-8a87-1b47f4240f4e"
      },
      "execution_count": 22,
      "outputs": [
        {
          "output_type": "execute_result",
          "data": {
            "text/plain": [
              "KNeighborsClassifier(n_neighbors=11)"
            ]
          },
          "metadata": {},
          "execution_count": 22
        }
      ]
    },
    {
      "cell_type": "code",
      "source": [
        "y_pred = knn.predict(x_test)"
      ],
      "metadata": {
        "id": "7jQvby2fiD2W"
      },
      "execution_count": 23,
      "outputs": []
    },
    {
      "cell_type": "code",
      "source": [
        "accuracy_score(y_test, y_pred)"
      ],
      "metadata": {
        "colab": {
          "base_uri": "https://localhost:8080/"
        },
        "id": "PgbKDueuiGdl",
        "outputId": "b48600ad-9727-407b-fc74-7ca0a03361ff"
      },
      "execution_count": 24,
      "outputs": [
        {
          "output_type": "execute_result",
          "data": {
            "text/plain": [
              "1.0"
            ]
          },
          "metadata": {},
          "execution_count": 24
        }
      ]
    },
    {
      "cell_type": "code",
      "source": [],
      "metadata": {
        "id": "Ra9C84HKiI2c"
      },
      "execution_count": null,
      "outputs": []
    }
  ]
}